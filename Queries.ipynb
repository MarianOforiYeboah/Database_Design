{
    "metadata": {
        "kernelspec": {
            "name": "SQL",
            "display_name": "SQL",
            "language": "sql"
        },
        "language_info": {
            "name": "sql",
            "version": ""
        }
    },
    "nbformat_minor": 2,
    "nbformat": 4,
    "cells": [
        {
            "cell_type": "markdown",
            "source": [
                "Time to  practice a few queries with our new Data **Target\\_Mart .** \n",
                "\n",
                "We will be testing our Data with basic SQL queries based on different topics.Let's get started!\n",
                "\n",
                "- **SUBQUERIES**"
            ],
            "metadata": {
                "azdata_cell_guid": "0aa8a321-216b-48ac-8a25-009fb996b8ed"
            },
            "attachments": {}
        },
        {
            "cell_type": "code",
            "source": [
                "/* Find Customers who placed Orders in the last quarter*/\r\n",
                "USE Target_Mart\r\n",
                "go\r\n",
                "SELECT  DISTINCT Customer\r\n",
                "FROM dim.Customers\r\n",
                "WHERE pkCustomer IN (\r\n",
                "    SELECT DISTINCT fkCustomer\r\n",
                "    FROM f.OrderPerf\r\n",
                "    WHERE fkCalendar IN (\r\n",
                "        SELECT pkCalendar\r\n",
                "        FROM dim.Calendar\r\n",
                "        WHERE Quarter = DATEPART(QUARTER, GETDATE())\r\n",
                "    )\r\n",
                "\t\r\n",
                ");"
            ],
            "metadata": {
                "azdata_cell_guid": "848d63b5-38d3-4394-9ee8-20d61abe50eb",
                "language": "sql"
            },
            "outputs": [
                {
                    "output_type": "display_data",
                    "data": {
                        "text/html": "Commands completed successfully."
                    },
                    "metadata": {}
                },
                {
                    "output_type": "display_data",
                    "data": {
                        "text/html": "(70 rows affected)"
                    },
                    "metadata": {}
                },
                {
                    "output_type": "display_data",
                    "data": {
                        "text/html": "Total execution time: 00:00:00.047"
                    },
                    "metadata": {}
                },
                {
                    "output_type": "execute_result",
                    "metadata": {},
                    "execution_count": 1,
                    "data": {
                        "application/vnd.dataresource+json": {
                            "schema": {
                                "fields": [
                                    {
                                        "name": "Customer"
                                    }
                                ]
                            },
                            "data": [
                                {
                                    "Customer": "Alfreds Futterkiste"
                                },
                                {
                                    "Customer": "Ana Trujillo Emparedados y helados"
                                },
                                {
                                    "Customer": "Antonio Moreno Taquería"
                                },
                                {
                                    "Customer": "Around the Horn"
                                },
                                {
                                    "Customer": "Berglunds snabbköp"
                                },
                                {
                                    "Customer": "Blondesddsl père et fils"
                                },
                                {
                                    "Customer": "Bólido Comidas preparadas"
                                },
                                {
                                    "Customer": "Bon app'"
                                },
                                {
                                    "Customer": "Bottom-Dollar Markets"
                                },
                                {
                                    "Customer": "Cactus Comidas para llevar"
                                },
                                {
                                    "Customer": "Chop-suey Chinese"
                                },
                                {
                                    "Customer": "Die Wandernde Kuh"
                                },
                                {
                                    "Customer": "Drachenblut Delikatessen"
                                },
                                {
                                    "Customer": "Eastern Connection"
                                },
                                {
                                    "Customer": "Ernst Handel"
                                },
                                {
                                    "Customer": "Familia Arquibaldo"
                                },
                                {
                                    "Customer": "Folies gourmandes"
                                },
                                {
                                    "Customer": "Folk och fä HB"
                                },
                                {
                                    "Customer": "Franchi S.p.A."
                                },
                                {
                                    "Customer": "Frankenversand"
                                },
                                {
                                    "Customer": "Furia Bacalhau e Frutos do Mar"
                                },
                                {
                                    "Customer": "Galería del gastrónomo"
                                },
                                {
                                    "Customer": "Gourmet Lanchonetes"
                                },
                                {
                                    "Customer": "GROSELLA-Restaurante"
                                },
                                {
                                    "Customer": "Hanari Carnes"
                                },
                                {
                                    "Customer": "HILARION-Abastos"
                                },
                                {
                                    "Customer": "Hungry Coyote Import Store"
                                },
                                {
                                    "Customer": "Hungry Owl All-Night Grocers"
                                },
                                {
                                    "Customer": "Island Trading"
                                },
                                {
                                    "Customer": "Königlich Essen"
                                },
                                {
                                    "Customer": "La maison d'Asie"
                                },
                                {
                                    "Customer": "Lehmanns Marktstand"
                                },
                                {
                                    "Customer": "Let's Stop N Shop"
                                },
                                {
                                    "Customer": "LILA-Supermercado"
                                },
                                {
                                    "Customer": "LINO-Delicateses"
                                },
                                {
                                    "Customer": "Magazzini Alimentari Riuniti"
                                },
                                {
                                    "Customer": "Maison Dewey"
                                },
                                {
                                    "Customer": "Mère Paillarde"
                                },
                                {
                                    "Customer": "Morgenstern Gesundkost"
                                },
                                {
                                    "Customer": "North/South"
                                },
                                {
                                    "Customer": "Old World Delicatessen"
                                },
                                {
                                    "Customer": "Ottilies Käseladen"
                                },
                                {
                                    "Customer": "Pericles Comidas clásicas"
                                },
                                {
                                    "Customer": "Piccolo und mehr"
                                },
                                {
                                    "Customer": "Princesa Isabel Vinhos"
                                },
                                {
                                    "Customer": "Que Delícia"
                                },
                                {
                                    "Customer": "Queen Cozinha"
                                },
                                {
                                    "Customer": "QUICK-Stop"
                                },
                                {
                                    "Customer": "Rancho grande"
                                },
                                {
                                    "Customer": "Rattlesnake Canyon Grocery"
                                },
                                {
                                    "Customer": "Ricardo Adocicados"
                                },
                                {
                                    "Customer": "Romero y tomillo"
                                },
                                {
                                    "Customer": "Santé Gourmet"
                                },
                                {
                                    "Customer": "Save-a-lot Markets"
                                },
                                {
                                    "Customer": "Seven Seas Imports"
                                },
                                {
                                    "Customer": "Simons bistro"
                                },
                                {
                                    "Customer": "Spécialités du monde"
                                },
                                {
                                    "Customer": "Split Rail Beer & Ale"
                                },
                                {
                                    "Customer": "Star Wars"
                                },
                                {
                                    "Customer": "Suprêmes délices"
                                },
                                {
                                    "Customer": "The Big Cheese"
                                },
                                {
                                    "Customer": "Toms Spezialitäten"
                                },
                                {
                                    "Customer": "Trail's Head Gourmet Provisioners"
                                },
                                {
                                    "Customer": "Vaffeljernet"
                                },
                                {
                                    "Customer": "Victuailles en stock"
                                },
                                {
                                    "Customer": "Vins et alcools Chevalier"
                                },
                                {
                                    "Customer": "Wartian Herkku"
                                },
                                {
                                    "Customer": "Wellington Importadora"
                                },
                                {
                                    "Customer": "White Clover Markets"
                                },
                                {
                                    "Customer": "Wilman Kala"
                                }
                            ]
                        },
                        "text/html": [
                            "<table>",
                            "<tr><th>Customer</th></tr>",
                            "<tr><td>Alfreds Futterkiste</td></tr>",
                            "<tr><td>Ana Trujillo Emparedados y helados</td></tr>",
                            "<tr><td>Antonio Moreno Taquería</td></tr>",
                            "<tr><td>Around the Horn</td></tr>",
                            "<tr><td>Berglunds snabbköp</td></tr>",
                            "<tr><td>Blondesddsl père et fils</td></tr>",
                            "<tr><td>Bólido Comidas preparadas</td></tr>",
                            "<tr><td>Bon app&#39;</td></tr>",
                            "<tr><td>Bottom-Dollar Markets</td></tr>",
                            "<tr><td>Cactus Comidas para llevar</td></tr>",
                            "<tr><td>Chop-suey Chinese</td></tr>",
                            "<tr><td>Die Wandernde Kuh</td></tr>",
                            "<tr><td>Drachenblut Delikatessen</td></tr>",
                            "<tr><td>Eastern Connection</td></tr>",
                            "<tr><td>Ernst Handel</td></tr>",
                            "<tr><td>Familia Arquibaldo</td></tr>",
                            "<tr><td>Folies gourmandes</td></tr>",
                            "<tr><td>Folk och fä HB</td></tr>",
                            "<tr><td>Franchi S.p.A.</td></tr>",
                            "<tr><td>Frankenversand</td></tr>",
                            "<tr><td>Furia Bacalhau e Frutos do Mar</td></tr>",
                            "<tr><td>Galería del gastrónomo</td></tr>",
                            "<tr><td>Gourmet Lanchonetes</td></tr>",
                            "<tr><td>GROSELLA-Restaurante</td></tr>",
                            "<tr><td>Hanari Carnes</td></tr>",
                            "<tr><td>HILARION-Abastos</td></tr>",
                            "<tr><td>Hungry Coyote Import Store</td></tr>",
                            "<tr><td>Hungry Owl All-Night Grocers</td></tr>",
                            "<tr><td>Island Trading</td></tr>",
                            "<tr><td>Königlich Essen</td></tr>",
                            "<tr><td>La maison d&#39;Asie</td></tr>",
                            "<tr><td>Lehmanns Marktstand</td></tr>",
                            "<tr><td>Let&#39;s Stop N Shop</td></tr>",
                            "<tr><td>LILA-Supermercado</td></tr>",
                            "<tr><td>LINO-Delicateses</td></tr>",
                            "<tr><td>Magazzini Alimentari Riuniti</td></tr>",
                            "<tr><td>Maison Dewey</td></tr>",
                            "<tr><td>Mère Paillarde</td></tr>",
                            "<tr><td>Morgenstern Gesundkost</td></tr>",
                            "<tr><td>North/South</td></tr>",
                            "<tr><td>Old World Delicatessen</td></tr>",
                            "<tr><td>Ottilies Käseladen</td></tr>",
                            "<tr><td>Pericles Comidas clásicas</td></tr>",
                            "<tr><td>Piccolo und mehr</td></tr>",
                            "<tr><td>Princesa Isabel Vinhos</td></tr>",
                            "<tr><td>Que Delícia</td></tr>",
                            "<tr><td>Queen Cozinha</td></tr>",
                            "<tr><td>QUICK-Stop</td></tr>",
                            "<tr><td>Rancho grande</td></tr>",
                            "<tr><td>Rattlesnake Canyon Grocery</td></tr>",
                            "<tr><td>Ricardo Adocicados</td></tr>",
                            "<tr><td>Romero y tomillo</td></tr>",
                            "<tr><td>Santé Gourmet</td></tr>",
                            "<tr><td>Save-a-lot Markets</td></tr>",
                            "<tr><td>Seven Seas Imports</td></tr>",
                            "<tr><td>Simons bistro</td></tr>",
                            "<tr><td>Spécialités du monde</td></tr>",
                            "<tr><td>Split Rail Beer &amp; Ale</td></tr>",
                            "<tr><td>Star Wars</td></tr>",
                            "<tr><td>Suprêmes délices</td></tr>",
                            "<tr><td>The Big Cheese</td></tr>",
                            "<tr><td>Toms Spezialitäten</td></tr>",
                            "<tr><td>Trail&#39;s Head Gourmet Provisioners</td></tr>",
                            "<tr><td>Vaffeljernet</td></tr>",
                            "<tr><td>Victuailles en stock</td></tr>",
                            "<tr><td>Vins et alcools Chevalier</td></tr>",
                            "<tr><td>Wartian Herkku</td></tr>",
                            "<tr><td>Wellington Importadora</td></tr>",
                            "<tr><td>White Clover Markets</td></tr>",
                            "<tr><td>Wilman Kala</td></tr>",
                            "</table>"
                        ]
                    }
                }
            ],
            "execution_count": 1
        },
        {
            "cell_type": "markdown",
            "source": [
                "**Answer is 70 customers**"
            ],
            "metadata": {
                "azdata_cell_guid": "e3707c19-ba43-4968-884d-6299602c0675"
            },
            "attachments": {}
        },
        {
            "cell_type": "markdown",
            "source": [
                "- **CTE**"
            ],
            "metadata": {
                "azdata_cell_guid": "5f23bd7d-4ef8-4940-ba3b-966e8b66f39a"
            },
            "attachments": {}
        },
        {
            "cell_type": "code",
            "source": [
                "/*Find Top 5 products Sold in 2022*/\r\n",
                "WITH ProductSales AS (\r\n",
                "    SELECT\r\n",
                "        P.Product,\r\n",
                "        SUM(PP.Quantity) AS TotalQuantity\r\n",
                "    FROM f.ProductPerf PP\r\n",
                "    JOIN dim.Products P ON PP.fkProductID = P.pkProdId\r\n",
                "    JOIN dim.Calendar C ON PP.OrderDate = C.pkCalendar\r\n",
                "    WHERE C.Year = 2022\r\n",
                "    GROUP BY P.Product\r\n",
                ")\r\n",
                "\r\n",
                "SELECT TOP 5\r\n",
                "    Product,\r\n",
                "    TotalQuantity\r\n",
                "FROM ProductSales\r\n",
                "ORDER BY TotalQuantity DESC;\r\n",
                "\r\n",
                ""
            ],
            "metadata": {
                "azdata_cell_guid": "088cf230-b5ad-4608-b8d3-98b583f72451",
                "language": "sql"
            },
            "outputs": [
                {
                    "output_type": "display_data",
                    "data": {
                        "text/html": "(5 rows affected)"
                    },
                    "metadata": {}
                },
                {
                    "output_type": "display_data",
                    "data": {
                        "text/html": "Total execution time: 00:00:00.014"
                    },
                    "metadata": {}
                },
                {
                    "output_type": "execute_result",
                    "metadata": {},
                    "execution_count": 2,
                    "data": {
                        "application/vnd.dataresource+json": {
                            "schema": {
                                "fields": [
                                    {
                                        "name": "Product"
                                    },
                                    {
                                        "name": "TotalQuantity"
                                    }
                                ]
                            },
                            "data": [
                                {
                                    "Product": "Gnocchi di nonna Alice",
                                    "TotalQuantity": "971"
                                },
                                {
                                    "Product": "Raclette Courdavault",
                                    "TotalQuantity": "752"
                                },
                                {
                                    "Product": "Camembert Pierrot",
                                    "TotalQuantity": "665"
                                },
                                {
                                    "Product": "Gorgonzola Telino",
                                    "TotalQuantity": "656"
                                },
                                {
                                    "Product": "Rhönbräu Klosterbier",
                                    "TotalQuantity": "630"
                                }
                            ]
                        },
                        "text/html": [
                            "<table>",
                            "<tr><th>Product</th><th>TotalQuantity</th></tr>",
                            "<tr><td>Gnocchi di nonna Alice</td><td>971</td></tr>",
                            "<tr><td>Raclette Courdavault</td><td>752</td></tr>",
                            "<tr><td>Camembert Pierrot</td><td>665</td></tr>",
                            "<tr><td>Gorgonzola Telino</td><td>656</td></tr>",
                            "<tr><td>Rhönbräu Klosterbier</td><td>630</td></tr>",
                            "</table>"
                        ]
                    }
                }
            ],
            "execution_count": 2
        },
        {
            "cell_type": "markdown",
            "source": [
                "- **CASE STATEMENTS**"
            ],
            "metadata": {
                "azdata_cell_guid": "032d1eb5-6620-4714-9e57-ea7d1847a424"
            },
            "attachments": {}
        },
        {
            "cell_type": "code",
            "source": [
                "/*find products that needs to be restocked i.e classify products stock into High,Medium and Low */\r\n",
                "SELECT Product,\r\n",
                "    UnitsInStock,\r\n",
                "    CASE\r\n",
                "        WHEN UnitsInStock >= 50 THEN 'High'\r\n",
                "        WHEN UnitsInStock >= 20 THEN 'Medium'\r\n",
                "        ELSE 'Low'\r\n",
                "    END AS 'StockCategory'\r\n",
                "FROM dim.Products\r\n",
                "ORDER BY 1 ASC\r\n",
                ";"
            ],
            "metadata": {
                "azdata_cell_guid": "c3f7cf53-129a-4df3-941f-a6df66871019",
                "language": "sql"
            },
            "outputs": [
                {
                    "output_type": "display_data",
                    "data": {
                        "text/html": "(77 rows affected)"
                    },
                    "metadata": {}
                },
                {
                    "output_type": "display_data",
                    "data": {
                        "text/html": "Total execution time: 00:00:00.007"
                    },
                    "metadata": {}
                },
                {
                    "output_type": "execute_result",
                    "metadata": {},
                    "execution_count": 3,
                    "data": {
                        "application/vnd.dataresource+json": {
                            "schema": {
                                "fields": [
                                    {
                                        "name": "Product"
                                    },
                                    {
                                        "name": "UnitsInStock"
                                    },
                                    {
                                        "name": "StockCategory"
                                    }
                                ]
                            },
                            "data": [
                                {
                                    "Product": "Alice Mutton",
                                    "UnitsInStock": "0",
                                    "StockCategory": "Low"
                                },
                                {
                                    "Product": "Aniseed Syrup",
                                    "UnitsInStock": "13",
                                    "StockCategory": "Low"
                                },
                                {
                                    "Product": "Boston Crab Meat",
                                    "UnitsInStock": "123",
                                    "StockCategory": "High"
                                },
                                {
                                    "Product": "Camembert Pierrot",
                                    "UnitsInStock": "19",
                                    "StockCategory": "Low"
                                },
                                {
                                    "Product": "Carnarvon Tigers",
                                    "UnitsInStock": "42",
                                    "StockCategory": "Medium"
                                },
                                {
                                    "Product": "Chai",
                                    "UnitsInStock": "39",
                                    "StockCategory": "Medium"
                                },
                                {
                                    "Product": "Chang",
                                    "UnitsInStock": "17",
                                    "StockCategory": "Low"
                                },
                                {
                                    "Product": "Chartreuse verte",
                                    "UnitsInStock": "69",
                                    "StockCategory": "High"
                                },
                                {
                                    "Product": "Chef Anton's Cajun Seasoning",
                                    "UnitsInStock": "53",
                                    "StockCategory": "High"
                                },
                                {
                                    "Product": "Chef Anton's Gumbo Mix",
                                    "UnitsInStock": "0",
                                    "StockCategory": "Low"
                                },
                                {
                                    "Product": "Chocolade",
                                    "UnitsInStock": "15",
                                    "StockCategory": "Low"
                                },
                                {
                                    "Product": "Côte de Blaye",
                                    "UnitsInStock": "17",
                                    "StockCategory": "Low"
                                },
                                {
                                    "Product": "Escargots de Bourgogne",
                                    "UnitsInStock": "62",
                                    "StockCategory": "High"
                                },
                                {
                                    "Product": "Filo Mix",
                                    "UnitsInStock": "38",
                                    "StockCategory": "Medium"
                                },
                                {
                                    "Product": "Flotemysost",
                                    "UnitsInStock": "26",
                                    "StockCategory": "Medium"
                                },
                                {
                                    "Product": "Geitost",
                                    "UnitsInStock": "112",
                                    "StockCategory": "High"
                                },
                                {
                                    "Product": "Genen Shouyu",
                                    "UnitsInStock": "39",
                                    "StockCategory": "Medium"
                                },
                                {
                                    "Product": "Gnocchi di nonna Alice",
                                    "UnitsInStock": "21",
                                    "StockCategory": "Medium"
                                },
                                {
                                    "Product": "Gorgonzola Telino",
                                    "UnitsInStock": "0",
                                    "StockCategory": "Low"
                                },
                                {
                                    "Product": "Grandma's Boysenberry Spread",
                                    "UnitsInStock": "120",
                                    "StockCategory": "High"
                                },
                                {
                                    "Product": "Gravad lax",
                                    "UnitsInStock": "11",
                                    "StockCategory": "Low"
                                },
                                {
                                    "Product": "Guaraná Fantástica",
                                    "UnitsInStock": "20",
                                    "StockCategory": "Medium"
                                },
                                {
                                    "Product": "Gudbrandsdalsost",
                                    "UnitsInStock": "26",
                                    "StockCategory": "Medium"
                                },
                                {
                                    "Product": "Gula Malacca",
                                    "UnitsInStock": "27",
                                    "StockCategory": "Medium"
                                },
                                {
                                    "Product": "Gumbär Gummibärchen",
                                    "UnitsInStock": "15",
                                    "StockCategory": "Low"
                                },
                                {
                                    "Product": "Gustaf's Knäckebröd",
                                    "UnitsInStock": "104",
                                    "StockCategory": "High"
                                },
                                {
                                    "Product": "Ikura",
                                    "UnitsInStock": "31",
                                    "StockCategory": "Medium"
                                },
                                {
                                    "Product": "Inlagd Sill",
                                    "UnitsInStock": "112",
                                    "StockCategory": "High"
                                },
                                {
                                    "Product": "Ipoh Coffee",
                                    "UnitsInStock": "17",
                                    "StockCategory": "Low"
                                },
                                {
                                    "Product": "Jack's New England Clam Chowder",
                                    "UnitsInStock": "85",
                                    "StockCategory": "High"
                                },
                                {
                                    "Product": "Konbu",
                                    "UnitsInStock": "24",
                                    "StockCategory": "Medium"
                                },
                                {
                                    "Product": "Lakkalikööri",
                                    "UnitsInStock": "57",
                                    "StockCategory": "High"
                                },
                                {
                                    "Product": "Laughing Lumberjack Lager",
                                    "UnitsInStock": "52",
                                    "StockCategory": "High"
                                },
                                {
                                    "Product": "Longlife Tofu",
                                    "UnitsInStock": "4",
                                    "StockCategory": "Low"
                                },
                                {
                                    "Product": "Louisiana Fiery Hot Pepper Sauce",
                                    "UnitsInStock": "76",
                                    "StockCategory": "High"
                                },
                                {
                                    "Product": "Louisiana Hot Spiced Okra",
                                    "UnitsInStock": "4",
                                    "StockCategory": "Low"
                                },
                                {
                                    "Product": "Manjimup Dried Apples",
                                    "UnitsInStock": "20",
                                    "StockCategory": "Medium"
                                },
                                {
                                    "Product": "Mascarpone Fabioli",
                                    "UnitsInStock": "9",
                                    "StockCategory": "Low"
                                },
                                {
                                    "Product": "Maxilaku",
                                    "UnitsInStock": "10",
                                    "StockCategory": "Low"
                                },
                                {
                                    "Product": "Mishi Kobe Niku",
                                    "UnitsInStock": "29",
                                    "StockCategory": "Medium"
                                },
                                {
                                    "Product": "Mozzarella di Giovanni",
                                    "UnitsInStock": "14",
                                    "StockCategory": "Low"
                                },
                                {
                                    "Product": "Nord-Ost Matjeshering",
                                    "UnitsInStock": "10",
                                    "StockCategory": "Low"
                                },
                                {
                                    "Product": "Northwoods Cranberry Sauce",
                                    "UnitsInStock": "6",
                                    "StockCategory": "Low"
                                },
                                {
                                    "Product": "NuNuCa Nuß-Nougat-Creme",
                                    "UnitsInStock": "76",
                                    "StockCategory": "High"
                                },
                                {
                                    "Product": "Original Frankfurter grüne Soße",
                                    "UnitsInStock": "32",
                                    "StockCategory": "Medium"
                                },
                                {
                                    "Product": "Outback Lager",
                                    "UnitsInStock": "15",
                                    "StockCategory": "Low"
                                },
                                {
                                    "Product": "Pâté chinois",
                                    "UnitsInStock": "115",
                                    "StockCategory": "High"
                                },
                                {
                                    "Product": "Pavlova",
                                    "UnitsInStock": "29",
                                    "StockCategory": "Medium"
                                },
                                {
                                    "Product": "Perth Pasties",
                                    "UnitsInStock": "0",
                                    "StockCategory": "Low"
                                },
                                {
                                    "Product": "Queso Cabrales",
                                    "UnitsInStock": "22",
                                    "StockCategory": "Medium"
                                },
                                {
                                    "Product": "Queso Manchego La Pastora",
                                    "UnitsInStock": "86",
                                    "StockCategory": "High"
                                },
                                {
                                    "Product": "Raclette Courdavault",
                                    "UnitsInStock": "79",
                                    "StockCategory": "High"
                                },
                                {
                                    "Product": "Ravioli Angelo",
                                    "UnitsInStock": "36",
                                    "StockCategory": "Medium"
                                },
                                {
                                    "Product": "Rhönbräu Klosterbier",
                                    "UnitsInStock": "125",
                                    "StockCategory": "High"
                                },
                                {
                                    "Product": "Röd Kaviar",
                                    "UnitsInStock": "101",
                                    "StockCategory": "High"
                                },
                                {
                                    "Product": "Rogede sild",
                                    "UnitsInStock": "5",
                                    "StockCategory": "Low"
                                },
                                {
                                    "Product": "Rössle Sauerkraut",
                                    "UnitsInStock": "26",
                                    "StockCategory": "Medium"
                                },
                                {
                                    "Product": "Sasquatch Ale",
                                    "UnitsInStock": "111",
                                    "StockCategory": "High"
                                },
                                {
                                    "Product": "Schoggi Schokolade",
                                    "UnitsInStock": "49",
                                    "StockCategory": "Medium"
                                },
                                {
                                    "Product": "Scottish Longbreads",
                                    "UnitsInStock": "6",
                                    "StockCategory": "Low"
                                },
                                {
                                    "Product": "Singaporean Hokkien Fried Mee",
                                    "UnitsInStock": "26",
                                    "StockCategory": "Medium"
                                },
                                {
                                    "Product": "Sir Rodney's Marmalade",
                                    "UnitsInStock": "40",
                                    "StockCategory": "Medium"
                                },
                                {
                                    "Product": "Sir Rodney's Scones",
                                    "UnitsInStock": "3",
                                    "StockCategory": "Low"
                                },
                                {
                                    "Product": "Sirop d'érable",
                                    "UnitsInStock": "113",
                                    "StockCategory": "High"
                                },
                                {
                                    "Product": "Spegesild",
                                    "UnitsInStock": "95",
                                    "StockCategory": "High"
                                },
                                {
                                    "Product": "Steeleye Stout",
                                    "UnitsInStock": "20",
                                    "StockCategory": "Medium"
                                },
                                {
                                    "Product": "Tarte au sucre",
                                    "UnitsInStock": "17",
                                    "StockCategory": "Low"
                                },
                                {
                                    "Product": "Teatime Chocolate Biscuits",
                                    "UnitsInStock": "25",
                                    "StockCategory": "Medium"
                                },
                                {
                                    "Product": "Thüringer Rostbratwurst",
                                    "UnitsInStock": "0",
                                    "StockCategory": "Low"
                                },
                                {
                                    "Product": "Tofu",
                                    "UnitsInStock": "35",
                                    "StockCategory": "Medium"
                                },
                                {
                                    "Product": "Tourtière",
                                    "UnitsInStock": "21",
                                    "StockCategory": "Medium"
                                },
                                {
                                    "Product": "Tunnbröd",
                                    "UnitsInStock": "61",
                                    "StockCategory": "High"
                                },
                                {
                                    "Product": "Uncle Bob's Organic Dried Pears",
                                    "UnitsInStock": "15",
                                    "StockCategory": "Low"
                                },
                                {
                                    "Product": "Valkoinen suklaa",
                                    "UnitsInStock": "65",
                                    "StockCategory": "High"
                                },
                                {
                                    "Product": "Vegie-spread",
                                    "UnitsInStock": "24",
                                    "StockCategory": "Medium"
                                },
                                {
                                    "Product": "Wimmers gute Semmelknödel",
                                    "UnitsInStock": "22",
                                    "StockCategory": "Medium"
                                },
                                {
                                    "Product": "Zaanse koeken",
                                    "UnitsInStock": "36",
                                    "StockCategory": "Medium"
                                }
                            ]
                        },
                        "text/html": [
                            "<table>",
                            "<tr><th>Product</th><th>UnitsInStock</th><th>StockCategory</th></tr>",
                            "<tr><td>Alice Mutton</td><td>0</td><td>Low</td></tr>",
                            "<tr><td>Aniseed Syrup</td><td>13</td><td>Low</td></tr>",
                            "<tr><td>Boston Crab Meat</td><td>123</td><td>High</td></tr>",
                            "<tr><td>Camembert Pierrot</td><td>19</td><td>Low</td></tr>",
                            "<tr><td>Carnarvon Tigers</td><td>42</td><td>Medium</td></tr>",
                            "<tr><td>Chai</td><td>39</td><td>Medium</td></tr>",
                            "<tr><td>Chang</td><td>17</td><td>Low</td></tr>",
                            "<tr><td>Chartreuse verte</td><td>69</td><td>High</td></tr>",
                            "<tr><td>Chef Anton&#39;s Cajun Seasoning</td><td>53</td><td>High</td></tr>",
                            "<tr><td>Chef Anton&#39;s Gumbo Mix</td><td>0</td><td>Low</td></tr>",
                            "<tr><td>Chocolade</td><td>15</td><td>Low</td></tr>",
                            "<tr><td>Côte de Blaye</td><td>17</td><td>Low</td></tr>",
                            "<tr><td>Escargots de Bourgogne</td><td>62</td><td>High</td></tr>",
                            "<tr><td>Filo Mix</td><td>38</td><td>Medium</td></tr>",
                            "<tr><td>Flotemysost</td><td>26</td><td>Medium</td></tr>",
                            "<tr><td>Geitost</td><td>112</td><td>High</td></tr>",
                            "<tr><td>Genen Shouyu</td><td>39</td><td>Medium</td></tr>",
                            "<tr><td>Gnocchi di nonna Alice</td><td>21</td><td>Medium</td></tr>",
                            "<tr><td>Gorgonzola Telino</td><td>0</td><td>Low</td></tr>",
                            "<tr><td>Grandma&#39;s Boysenberry Spread</td><td>120</td><td>High</td></tr>",
                            "<tr><td>Gravad lax</td><td>11</td><td>Low</td></tr>",
                            "<tr><td>Guaraná Fantástica</td><td>20</td><td>Medium</td></tr>",
                            "<tr><td>Gudbrandsdalsost</td><td>26</td><td>Medium</td></tr>",
                            "<tr><td>Gula Malacca</td><td>27</td><td>Medium</td></tr>",
                            "<tr><td>Gumbär Gummibärchen</td><td>15</td><td>Low</td></tr>",
                            "<tr><td>Gustaf&#39;s Knäckebröd</td><td>104</td><td>High</td></tr>",
                            "<tr><td>Ikura</td><td>31</td><td>Medium</td></tr>",
                            "<tr><td>Inlagd Sill</td><td>112</td><td>High</td></tr>",
                            "<tr><td>Ipoh Coffee</td><td>17</td><td>Low</td></tr>",
                            "<tr><td>Jack&#39;s New England Clam Chowder</td><td>85</td><td>High</td></tr>",
                            "<tr><td>Konbu</td><td>24</td><td>Medium</td></tr>",
                            "<tr><td>Lakkalikööri</td><td>57</td><td>High</td></tr>",
                            "<tr><td>Laughing Lumberjack Lager</td><td>52</td><td>High</td></tr>",
                            "<tr><td>Longlife Tofu</td><td>4</td><td>Low</td></tr>",
                            "<tr><td>Louisiana Fiery Hot Pepper Sauce</td><td>76</td><td>High</td></tr>",
                            "<tr><td>Louisiana Hot Spiced Okra</td><td>4</td><td>Low</td></tr>",
                            "<tr><td>Manjimup Dried Apples</td><td>20</td><td>Medium</td></tr>",
                            "<tr><td>Mascarpone Fabioli</td><td>9</td><td>Low</td></tr>",
                            "<tr><td>Maxilaku</td><td>10</td><td>Low</td></tr>",
                            "<tr><td>Mishi Kobe Niku</td><td>29</td><td>Medium</td></tr>",
                            "<tr><td>Mozzarella di Giovanni</td><td>14</td><td>Low</td></tr>",
                            "<tr><td>Nord-Ost Matjeshering</td><td>10</td><td>Low</td></tr>",
                            "<tr><td>Northwoods Cranberry Sauce</td><td>6</td><td>Low</td></tr>",
                            "<tr><td>NuNuCa Nuß-Nougat-Creme</td><td>76</td><td>High</td></tr>",
                            "<tr><td>Original Frankfurter grüne Soße</td><td>32</td><td>Medium</td></tr>",
                            "<tr><td>Outback Lager</td><td>15</td><td>Low</td></tr>",
                            "<tr><td>Pâté chinois</td><td>115</td><td>High</td></tr>",
                            "<tr><td>Pavlova</td><td>29</td><td>Medium</td></tr>",
                            "<tr><td>Perth Pasties</td><td>0</td><td>Low</td></tr>",
                            "<tr><td>Queso Cabrales</td><td>22</td><td>Medium</td></tr>",
                            "<tr><td>Queso Manchego La Pastora</td><td>86</td><td>High</td></tr>",
                            "<tr><td>Raclette Courdavault</td><td>79</td><td>High</td></tr>",
                            "<tr><td>Ravioli Angelo</td><td>36</td><td>Medium</td></tr>",
                            "<tr><td>Rhönbräu Klosterbier</td><td>125</td><td>High</td></tr>",
                            "<tr><td>Röd Kaviar</td><td>101</td><td>High</td></tr>",
                            "<tr><td>Rogede sild</td><td>5</td><td>Low</td></tr>",
                            "<tr><td>Rössle Sauerkraut</td><td>26</td><td>Medium</td></tr>",
                            "<tr><td>Sasquatch Ale</td><td>111</td><td>High</td></tr>",
                            "<tr><td>Schoggi Schokolade</td><td>49</td><td>Medium</td></tr>",
                            "<tr><td>Scottish Longbreads</td><td>6</td><td>Low</td></tr>",
                            "<tr><td>Singaporean Hokkien Fried Mee</td><td>26</td><td>Medium</td></tr>",
                            "<tr><td>Sir Rodney&#39;s Marmalade</td><td>40</td><td>Medium</td></tr>",
                            "<tr><td>Sir Rodney&#39;s Scones</td><td>3</td><td>Low</td></tr>",
                            "<tr><td>Sirop d&#39;érable</td><td>113</td><td>High</td></tr>",
                            "<tr><td>Spegesild</td><td>95</td><td>High</td></tr>",
                            "<tr><td>Steeleye Stout</td><td>20</td><td>Medium</td></tr>",
                            "<tr><td>Tarte au sucre</td><td>17</td><td>Low</td></tr>",
                            "<tr><td>Teatime Chocolate Biscuits</td><td>25</td><td>Medium</td></tr>",
                            "<tr><td>Thüringer Rostbratwurst</td><td>0</td><td>Low</td></tr>",
                            "<tr><td>Tofu</td><td>35</td><td>Medium</td></tr>",
                            "<tr><td>Tourtière</td><td>21</td><td>Medium</td></tr>",
                            "<tr><td>Tunnbröd</td><td>61</td><td>High</td></tr>",
                            "<tr><td>Uncle Bob&#39;s Organic Dried Pears</td><td>15</td><td>Low</td></tr>",
                            "<tr><td>Valkoinen suklaa</td><td>65</td><td>High</td></tr>",
                            "<tr><td>Vegie-spread</td><td>24</td><td>Medium</td></tr>",
                            "<tr><td>Wimmers gute Semmelknödel</td><td>22</td><td>Medium</td></tr>",
                            "<tr><td>Zaanse koeken</td><td>36</td><td>Medium</td></tr>",
                            "</table>"
                        ]
                    }
                }
            ],
            "execution_count": 3
        }
    ]
}